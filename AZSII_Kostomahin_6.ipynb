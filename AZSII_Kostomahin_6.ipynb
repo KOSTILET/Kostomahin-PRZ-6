{
  "nbformat": 4,
  "nbformat_minor": 0,
  "metadata": {
    "colab": {
      "provenance": [],
      "gpuType": "T4"
    },
    "kernelspec": {
      "name": "python3",
      "display_name": "Python 3"
    },
    "language_info": {
      "name": "python"
    },
    "accelerator": "GPU"
  },
  "cells": [
    {
      "cell_type": "markdown",
      "source": [
        "Практическая работа № 6\n",
        "\n",
        "Выполнил студент группы ББМО-02-23: Костомахин А.А.\n",
        "\n",
        "Цель работы:\n",
        "\n",
        "Загрузить несколько моделей, обученных на датасете MNIST.\n",
        "Изучить теоретические основы атаки по переносу.\n",
        "Реализовать атаку FGSM на одну модель и проверить, как противоречивые примеры влияют на другую модель.\n",
        "Оценить точность обеих моделей на противоречивых примерах и проанализировать переносимость атак."
      ],
      "metadata": {
        "id": "jOB4KdZyMxKz"
      }
    },
    {
      "cell_type": "code",
      "execution_count": 1,
      "metadata": {
        "colab": {
          "base_uri": "https://localhost:8080/"
        },
        "id": "MQuf4MSjDMQ1",
        "outputId": "0cf92be1-44a8-4449-a51e-3e47f0bc930e"
      },
      "outputs": [
        {
          "output_type": "stream",
          "name": "stdout",
          "text": [
            "Downloading data from https://storage.googleapis.com/tensorflow/tf-keras-datasets/mnist.npz\n",
            "\u001b[1m11490434/11490434\u001b[0m \u001b[32m━━━━━━━━━━━━━━━━━━━━\u001b[0m\u001b[37m\u001b[0m \u001b[1m0s\u001b[0m 0us/step\n"
          ]
        },
        {
          "output_type": "stream",
          "name": "stderr",
          "text": [
            "/usr/local/lib/python3.10/dist-packages/keras/src/layers/reshaping/flatten.py:37: UserWarning: Do not pass an `input_shape`/`input_dim` argument to a layer. When using Sequential models, prefer using an `Input(shape)` object as the first layer in the model instead.\n",
            "  super().__init__(**kwargs)\n"
          ]
        },
        {
          "output_type": "stream",
          "name": "stdout",
          "text": [
            "Epoch 1/5\n",
            "\u001b[1m1875/1875\u001b[0m \u001b[32m━━━━━━━━━━━━━━━━━━━━\u001b[0m\u001b[37m\u001b[0m \u001b[1m7s\u001b[0m 2ms/step - accuracy: 0.8781 - loss: 0.4354\n",
            "Epoch 2/5\n",
            "\u001b[1m1875/1875\u001b[0m \u001b[32m━━━━━━━━━━━━━━━━━━━━\u001b[0m\u001b[37m\u001b[0m \u001b[1m8s\u001b[0m 2ms/step - accuracy: 0.9654 - loss: 0.1208\n",
            "Epoch 3/5\n",
            "\u001b[1m1875/1875\u001b[0m \u001b[32m━━━━━━━━━━━━━━━━━━━━\u001b[0m\u001b[37m\u001b[0m \u001b[1m5s\u001b[0m 2ms/step - accuracy: 0.9763 - loss: 0.0801\n",
            "Epoch 4/5\n",
            "\u001b[1m1875/1875\u001b[0m \u001b[32m━━━━━━━━━━━━━━━━━━━━\u001b[0m\u001b[37m\u001b[0m \u001b[1m5s\u001b[0m 1ms/step - accuracy: 0.9831 - loss: 0.0575\n",
            "Epoch 5/5\n",
            "\u001b[1m1875/1875\u001b[0m \u001b[32m━━━━━━━━━━━━━━━━━━━━\u001b[0m\u001b[37m\u001b[0m \u001b[1m4s\u001b[0m 2ms/step - accuracy: 0.9861 - loss: 0.0438\n",
            "\u001b[1m313/313\u001b[0m \u001b[32m━━━━━━━━━━━━━━━━━━━━\u001b[0m\u001b[37m\u001b[0m \u001b[1m1s\u001b[0m 3ms/step - accuracy: 0.9739 - loss: 0.0907\n"
          ]
        },
        {
          "output_type": "stream",
          "name": "stderr",
          "text": [
            "WARNING:absl:You are saving your model as an HDF5 file via `model.save()` or `keras.saving.save_model(model)`. This file format is considered legacy. We recommend using instead the native Keras format, e.g. `model.save('my_model.keras')` or `keras.saving.save_model(model, 'my_model.keras')`. \n"
          ]
        },
        {
          "output_type": "stream",
          "name": "stdout",
          "text": [
            "Test accuracy on clean images: 0.9775999784469604\n"
          ]
        },
        {
          "output_type": "stream",
          "name": "stderr",
          "text": [
            "/usr/local/lib/python3.10/dist-packages/keras/src/layers/convolutional/base_conv.py:107: UserWarning: Do not pass an `input_shape`/`input_dim` argument to a layer. When using Sequential models, prefer using an `Input(shape)` object as the first layer in the model instead.\n",
            "  super().__init__(activity_regularizer=activity_regularizer, **kwargs)\n"
          ]
        },
        {
          "output_type": "stream",
          "name": "stdout",
          "text": [
            "Epoch 1/5\n",
            "\u001b[1m1875/1875\u001b[0m \u001b[32m━━━━━━━━━━━━━━━━━━━━\u001b[0m\u001b[37m\u001b[0m \u001b[1m7s\u001b[0m 2ms/step - accuracy: 0.9107 - loss: 0.2992\n",
            "Epoch 2/5\n",
            "\u001b[1m1875/1875\u001b[0m \u001b[32m━━━━━━━━━━━━━━━━━━━━\u001b[0m\u001b[37m\u001b[0m \u001b[1m8s\u001b[0m 2ms/step - accuracy: 0.9843 - loss: 0.0511\n",
            "Epoch 3/5\n",
            "\u001b[1m1875/1875\u001b[0m \u001b[32m━━━━━━━━━━━━━━━━━━━━\u001b[0m\u001b[37m\u001b[0m \u001b[1m4s\u001b[0m 2ms/step - accuracy: 0.9907 - loss: 0.0302\n",
            "Epoch 4/5\n",
            "\u001b[1m1875/1875\u001b[0m \u001b[32m━━━━━━━━━━━━━━━━━━━━\u001b[0m\u001b[37m\u001b[0m \u001b[1m4s\u001b[0m 2ms/step - accuracy: 0.9939 - loss: 0.0201\n",
            "Epoch 5/5\n",
            "\u001b[1m1875/1875\u001b[0m \u001b[32m━━━━━━━━━━━━━━━━━━━━\u001b[0m\u001b[37m\u001b[0m \u001b[1m4s\u001b[0m 2ms/step - accuracy: 0.9957 - loss: 0.0131\n",
            "\u001b[1m313/313\u001b[0m \u001b[32m━━━━━━━━━━━━━━━━━━━━\u001b[0m\u001b[37m\u001b[0m \u001b[1m1s\u001b[0m 3ms/step - accuracy: 0.9830 - loss: 0.0515\n"
          ]
        },
        {
          "output_type": "stream",
          "name": "stderr",
          "text": [
            "WARNING:absl:You are saving your model as an HDF5 file via `model.save()` or `keras.saving.save_model(model)`. This file format is considered legacy. We recommend using instead the native Keras format, e.g. `model.save('my_model.keras')` or `keras.saving.save_model(model, 'my_model.keras')`. \n"
          ]
        },
        {
          "output_type": "stream",
          "name": "stdout",
          "text": [
            "Test accuracy on clean images: 0.9871000051498413\n"
          ]
        }
      ],
      "source": [
        "import tensorflow as tf\n",
        "from tensorflow.keras.datasets import mnist\n",
        "from tensorflow.keras.models import Sequential\n",
        "from tensorflow.keras.layers import Dense, Flatten, Conv2D, MaxPooling2D\n",
        "from tensorflow.keras.utils import to_categorical\n",
        "# Загрузка датасета MNIST\n",
        "(train_images, train_labels), (test_images, test_labels) = mnist.load_data()\n",
        "# Нормализация данных\n",
        "train_images = train_images / 255.0\n",
        "test_images = test_images / 255.0\n",
        "# Преобразование меток в one-hot encoding\n",
        "train_labels = to_categorical(train_labels)\n",
        "test_labels = to_categorical(test_labels)\n",
        "# Создание простой полносвязной модели\n",
        "model1 = Sequential([\n",
        " Flatten(input_shape=(28, 28)),\n",
        " Dense(128, activation='relu'),\n",
        " Dense(10, activation='softmax')])\n",
        "# Компиляция модели\n",
        "model1.compile(optimizer='adam', loss='categorical_crossentropy', metrics=['accuracy'])\n",
        "# Обучение модели\n",
        "model1.fit(train_images, train_labels, epochs=5)\n",
        "# Проверка точности модели на обычных данных\n",
        "test_loss, test_acc = model1.evaluate(test_images, test_labels)\n",
        "print(f'Test accuracy on clean images: {test_acc}')\n",
        "model1.save('mnist_model1.h5') # сохранение модели\n",
        "# Создание модели свёрточной нейронной сети\n",
        "model2 = Sequential([\n",
        " Conv2D(32, (3, 3), activation='relu', input_shape=(28, 28, 1)),\n",
        " MaxPooling2D((2, 2)),\n",
        " Flatten(),\n",
        " Dense(128, activation='relu'),\n",
        " Dense(10, activation='softmax')])\n",
        "# Компиляция модели\n",
        "model2.compile(optimizer='adam', loss='categorical_crossentropy', metrics=['accuracy'])\n",
        "# Обучение модели\n",
        "model2.fit(train_images, train_labels, epochs=5)\n",
        "# Проверка точности модели на обычных данных\n",
        "test_loss, test_acc = model2.evaluate(test_images, test_labels)\n",
        "print(f'Test accuracy on clean images: {test_acc}')\n",
        "model1.save('mnist_model2.h5') # сохранение модели"
      ]
    },
    {
      "cell_type": "code",
      "source": [
        "import numpy as np\n",
        "# Функция для реализации FGSM атаки\n",
        "def fgsm_attack(image, epsilon, gradient):\n",
        "  # Применение знака градиента к изображению\n",
        "  perturbed_image = image + epsilon * np.sign(gradient)\n",
        "  # Обрезка значений, чтобы они оставались в пределах [0,1]\n",
        "  perturbed_image = np.clip(perturbed_image, 0, 1)\n",
        "  return perturbed_image\n",
        "# Вычисление градиента\n",
        "def generate_adversarial_example(model, images, labels, epsilon):\n",
        "    adversarial_images = []\n",
        "    # Превращаем изображение в формат, подходящий для модели\n",
        "    for i in range(len(images)):\n",
        "      image = tf.convert_to_tensor(images[i].reshape((1, 28, 28, 1)))\n",
        "      label = labels[i]\n",
        "      # Если label — это one-hot вектор, преобразуем его в индекс\n",
        "      if len(label.shape) > 1 and label.shape[1] > 1:\n",
        "          label = np.argmax(label),\n",
        "      label = tf.convert_to_tensor(label)\n",
        "      with tf.GradientTape() as tape:\n",
        "          tape.watch(image)\n",
        "          prediction = model(image)\n",
        "          loss = tf.keras.losses.categorical_crossentropy(label[None], prediction)\n",
        "      gradient = tape.gradient(loss, image)\n",
        "      # Применяем FGSM\n",
        "      adversarial_image = fgsm_attack(image.numpy(), epsilon, gradient.numpy())\n",
        "      adversarial_images.append(np.reshape(adversarial_image, (28, 28, 1)))\n",
        "    return np.array(adversarial_images)\n",
        "epsilon = 0.15 # Величина шума\n",
        "# Создаём противоречивые изображения для простой полносвязной модели\n",
        "adversarial_example = generate_adversarial_example(model1, test_images, test_labels, epsilon)"
      ],
      "metadata": {
        "id": "8BCYRF6mFNR1"
      },
      "execution_count": 5,
      "outputs": []
    },
    {
      "cell_type": "code",
      "source": [
        "# Пример противоречивого изображения\n",
        "import matplotlib.pyplot as plt\n",
        "plt.figure()\n",
        "plt.subplot(1, 2, 1)\n",
        "plt.title(\"Оригинальное изображение\")\n",
        "plt.imshow(test_images[0], cmap=\"gray\")\n",
        "plt.subplot(1, 2, 2)\n",
        "plt.title(\"Противоречивое изображение\")\n",
        "plt.imshow(adversarial_example[0].reshape(28, 28), cmap=\"gray\")\n",
        "plt.show()\n"
      ],
      "metadata": {
        "colab": {
          "base_uri": "https://localhost:8080/",
          "height": 308
        },
        "id": "KdrRKMTdGMbj",
        "outputId": "10d5b3cf-63f9-44e9-daf3-7fb4bbe4bd25"
      },
      "execution_count": 6,
      "outputs": [
        {
          "output_type": "display_data",
          "data": {
            "text/plain": [
              "<Figure size 640x480 with 2 Axes>"
            ],
            "image/png": "[encoded data removed]"
          },
          "metadata": {}
        }
      ]
    },
    {
      "cell_type": "code",
      "source": [
        "# Оценка полносвязной модели на противоречивых примерах\n",
        "adversarial_loss1, adversarial_acc1 = model1.evaluate(adversarial_example.reshape(10000, 28, 28),\n",
        "test_labels)\n",
        "# Оценка свёрточной модели на противоречивых примерах\n",
        "adversarial_loss2, adversarial_acc2 = model2.evaluate(adversarial_example.reshape(10000, 28, 28),\n",
        "test_labels)\n",
        "print(f'Точность полносвязной модели: {adversarial_acc1}')\n",
        "print(f'Точность свёрточной модели: {adversarial_acc2}')"
      ],
      "metadata": {
        "colab": {
          "base_uri": "https://localhost:8080/"
        },
        "id": "bGZ4A1f6L1_A",
        "outputId": "6fdaae38-8a5c-467e-8375-88b6e1ed41ea"
      },
      "execution_count": 7,
      "outputs": [
        {
          "output_type": "stream",
          "name": "stdout",
          "text": [
            "\u001b[1m313/313\u001b[0m \u001b[32m━━━━━━━━━━━━━━━━━━━━\u001b[0m\u001b[37m\u001b[0m \u001b[1m0s\u001b[0m 1ms/step - accuracy: 0.0136 - loss: 12.0838\n",
            "\u001b[1m313/313\u001b[0m \u001b[32m━━━━━━━━━━━━━━━━━━━━\u001b[0m\u001b[37m\u001b[0m \u001b[1m1s\u001b[0m 2ms/step - accuracy: 0.9308 - loss: 0.2310\n",
            "Точность полносвязной модели: 0.02280000038444996\n",
            "Точность свёрточной модели: 0.9394000172615051\n"
          ]
        }
      ]
    },
    {
      "cell_type": "code",
      "source": [
        "# Создаём противоречивые изображения для свёрточной модели\n",
        "adversarial_example = generate_adversarial_example(model2, test_images, test_labels, epsilon)"
      ],
      "metadata": {
        "id": "zjq5oRgwL_0C"
      },
      "execution_count": 8,
      "outputs": []
    },
    {
      "cell_type": "code",
      "source": [
        "# Пример противоречивого изображения\n",
        "plt.figure()\n",
        "plt.subplot(1, 2, 1)\n",
        "plt.title(\"Оригинальное изображение\")\n",
        "plt.imshow(test_images[0], cmap=\"gray\")\n",
        "plt.subplot(1, 2, 2)\n",
        "plt.title(\"Противоречивое изображение\")\n",
        "plt.imshow(adversarial_example[0].reshape(28, 28), cmap=\"gray\")\n",
        "plt.show()"
      ],
      "metadata": {
        "colab": {
          "base_uri": "https://localhost:8080/",
          "height": 308
        },
        "id": "fKX2zNRlMBvb",
        "outputId": "b0d9b6aa-4920-44e1-8f3d-e5288d7b6e9e"
      },
      "execution_count": 9,
      "outputs": [
        {
          "output_type": "display_data",
          "data": {
            "text/plain": [
              "<Figure size 640x480 with 2 Axes>"
            ],
            "image/png": "[encoded data removed]"
          },
          "metadata": {}
        }
      ]
    },
    {
      "cell_type": "code",
      "source": [
        "# Оценка полносвязной модели на противоречивых примерах\n",
        "adversarial_loss1, adversarial_acc1 = model1.evaluate(adversarial_example.reshape(10000, 28, 28),\n",
        "test_labels)\n",
        "# Оценка свёрточной модели на противоречивых примерах\n",
        "adversarial_loss2, adversarial_acc2 = model2.evaluate(adversarial_example.reshape(10000, 28, 28),\n",
        "test_labels)\n",
        "print(f'Точность полносвязной модели: {adversarial_acc1}')\n",
        "print(f'Точность свёрточной модели: {adversarial_acc2}')"
      ],
      "metadata": {
        "colab": {
          "base_uri": "https://localhost:8080/"
        },
        "id": "JoOxQX4wMpk4",
        "outputId": "3e6ed4ef-49ea-4a6e-f931-9def50b61f47"
      },
      "execution_count": 10,
      "outputs": [
        {
          "output_type": "stream",
          "name": "stdout",
          "text": [
            "\u001b[1m313/313\u001b[0m \u001b[32m━━━━━━━━━━━━━━━━━━━━\u001b[0m\u001b[37m\u001b[0m \u001b[1m0s\u001b[0m 1ms/step - accuracy: 0.9442 - loss: 0.1887\n",
            "\u001b[1m313/313\u001b[0m \u001b[32m━━━━━━━━━━━━━━━━━━━━\u001b[0m\u001b[37m\u001b[0m \u001b[1m0s\u001b[0m 1ms/step - accuracy: 0.3829 - loss: 2.8422\n",
            "Точность полносвязной модели: 0.9514999985694885\n",
            "Точность свёрточной модели: 0.3978999853134155\n"
          ]
        }
      ]
    },
    {
      "cell_type": "markdown",
      "source": [
        "Вывод:\n",
        "\n",
        "В ходе работы было исследовано воздействие атаки по переносу, при которой противоречивые примеры, созданные для одной модели, использовались для атаки на другую. Метод FGSM позволил эффективно генерировать такие примеры, искажающие предсказания.\n",
        "\n",
        "Результаты эксперимента показали, что точность модели 1 резко упала, что свидетельствует о высокой уязвимости к атакам. Однако модель 2, протестированная на тех же примерах, сохранила точность на уровне 95.1%, продемонстрировав значительную устойчивость к переносу атак.\n",
        "\n",
        "Когда противоречивые примеры были сгенерированы для модели 2 и использованы против модели 1, точность последней снизилась до 94.42%, что меньше, чем в первом случае, и подтверждает её меньшую восприимчивость к атакам, созданным для другой модели.\n",
        "\n",
        "Эти результаты показывают, что атака по переносу с использованием FGSM может существенно снизить точность, особенно если примеры созданы для целевой модели. В то же время, более устойчивые модели сохраняют точность при воздействии атак, перенесённых с других моделей, подчёркивая важность разработки методов защиты от таких атак."
      ],
      "metadata": {
        "id": "vNLsaTAMM86w"
      }
    }
  ]
}